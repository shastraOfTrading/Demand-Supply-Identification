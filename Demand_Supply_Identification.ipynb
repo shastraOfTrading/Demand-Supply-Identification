{
  "cells": [
    {
      "cell_type": "markdown",
      "metadata": {
        "id": "view-in-github",
        "colab_type": "text"
      },
      "source": [
        "<a href=\"https://colab.research.google.com/github/shastraOfTrading/Demand-Supply-Identification/blob/main/Demand_Supply_Identification.ipynb\" target=\"_parent\"><img src=\"https://colab.research.google.com/assets/colab-badge.svg\" alt=\"Open In Colab\"/></a>"
      ]
    },
    {
      "cell_type": "code",
      "source": [
        "!pip install mplfinance\n",
        "!pip install mpl_finance\n"
      ],
      "metadata": {
        "id": "aY2yTAOKE3w_",
        "outputId": "c32d5d3a-fd9f-451e-8357-dc8378b9715b",
        "colab": {
          "base_uri": "https://localhost:8080/"
        }
      },
      "execution_count": null,
      "outputs": [
        {
          "output_type": "stream",
          "name": "stdout",
          "text": [
            "Collecting mplfinance\n",
            "  Downloading mplfinance-0.12.10b0-py3-none-any.whl.metadata (19 kB)\n",
            "Requirement already satisfied: matplotlib in /usr/local/lib/python3.10/dist-packages (from mplfinance) (3.7.1)\n",
            "Requirement already satisfied: pandas in /usr/local/lib/python3.10/dist-packages (from mplfinance) (2.1.4)\n",
            "Requirement already satisfied: contourpy>=1.0.1 in /usr/local/lib/python3.10/dist-packages (from matplotlib->mplfinance) (1.3.0)\n",
            "Requirement already satisfied: cycler>=0.10 in /usr/local/lib/python3.10/dist-packages (from matplotlib->mplfinance) (0.12.1)\n",
            "Requirement already satisfied: fonttools>=4.22.0 in /usr/local/lib/python3.10/dist-packages (from matplotlib->mplfinance) (4.53.1)\n",
            "Requirement already satisfied: kiwisolver>=1.0.1 in /usr/local/lib/python3.10/dist-packages (from matplotlib->mplfinance) (1.4.7)\n",
            "Requirement already satisfied: numpy>=1.20 in /usr/local/lib/python3.10/dist-packages (from matplotlib->mplfinance) (1.26.4)\n",
            "Requirement already satisfied: packaging>=20.0 in /usr/local/lib/python3.10/dist-packages (from matplotlib->mplfinance) (24.1)\n",
            "Requirement already satisfied: pillow>=6.2.0 in /usr/local/lib/python3.10/dist-packages (from matplotlib->mplfinance) (10.4.0)\n",
            "Requirement already satisfied: pyparsing>=2.3.1 in /usr/local/lib/python3.10/dist-packages (from matplotlib->mplfinance) (3.1.4)\n",
            "Requirement already satisfied: python-dateutil>=2.7 in /usr/local/lib/python3.10/dist-packages (from matplotlib->mplfinance) (2.8.2)\n",
            "Requirement already satisfied: pytz>=2020.1 in /usr/local/lib/python3.10/dist-packages (from pandas->mplfinance) (2024.2)\n",
            "Requirement already satisfied: tzdata>=2022.1 in /usr/local/lib/python3.10/dist-packages (from pandas->mplfinance) (2024.1)\n",
            "Requirement already satisfied: six>=1.5 in /usr/local/lib/python3.10/dist-packages (from python-dateutil>=2.7->matplotlib->mplfinance) (1.16.0)\n",
            "Downloading mplfinance-0.12.10b0-py3-none-any.whl (75 kB)\n",
            "\u001b[2K   \u001b[90m━━━━━━━━━━━━━━━━━━━━━━━━━━━━━━━━━━━━━━━━\u001b[0m \u001b[32m75.0/75.0 kB\u001b[0m \u001b[31m2.9 MB/s\u001b[0m eta \u001b[36m0:00:00\u001b[0m\n",
            "\u001b[?25hInstalling collected packages: mplfinance\n",
            "Successfully installed mplfinance-0.12.10b0\n",
            "Collecting mpl_finance\n",
            "  Downloading mpl_finance-0.10.1-py3-none-any.whl.metadata (3.7 kB)\n",
            "Requirement already satisfied: matplotlib in /usr/local/lib/python3.10/dist-packages (from mpl_finance) (3.7.1)\n",
            "Requirement already satisfied: contourpy>=1.0.1 in /usr/local/lib/python3.10/dist-packages (from matplotlib->mpl_finance) (1.3.0)\n",
            "Requirement already satisfied: cycler>=0.10 in /usr/local/lib/python3.10/dist-packages (from matplotlib->mpl_finance) (0.12.1)\n",
            "Requirement already satisfied: fonttools>=4.22.0 in /usr/local/lib/python3.10/dist-packages (from matplotlib->mpl_finance) (4.53.1)\n",
            "Requirement already satisfied: kiwisolver>=1.0.1 in /usr/local/lib/python3.10/dist-packages (from matplotlib->mpl_finance) (1.4.7)\n",
            "Requirement already satisfied: numpy>=1.20 in /usr/local/lib/python3.10/dist-packages (from matplotlib->mpl_finance) (1.26.4)\n",
            "Requirement already satisfied: packaging>=20.0 in /usr/local/lib/python3.10/dist-packages (from matplotlib->mpl_finance) (24.1)\n",
            "Requirement already satisfied: pillow>=6.2.0 in /usr/local/lib/python3.10/dist-packages (from matplotlib->mpl_finance) (10.4.0)\n",
            "Requirement already satisfied: pyparsing>=2.3.1 in /usr/local/lib/python3.10/dist-packages (from matplotlib->mpl_finance) (3.1.4)\n",
            "Requirement already satisfied: python-dateutil>=2.7 in /usr/local/lib/python3.10/dist-packages (from matplotlib->mpl_finance) (2.8.2)\n",
            "Requirement already satisfied: six>=1.5 in /usr/local/lib/python3.10/dist-packages (from python-dateutil>=2.7->matplotlib->mpl_finance) (1.16.0)\n",
            "Downloading mpl_finance-0.10.1-py3-none-any.whl (8.4 kB)\n",
            "Installing collected packages: mpl_finance\n",
            "Successfully installed mpl_finance-0.10.1\n"
          ]
        }
      ]
    },
    {
      "cell_type": "markdown",
      "source": [
        "Future Prediction"
      ],
      "metadata": {
        "id": "SohXCssKuFOs"
      }
    },
    {
      "cell_type": "code",
      "execution_count": 30,
      "metadata": {
        "id": "sVpy4-iLEwOz",
        "colab": {
          "base_uri": "https://localhost:8080/",
          "height": 799,
          "referenced_widgets": [
            "8647dbb821d34598b704463c259b8812",
            "4d004fdecf5943ccbfd6bf0f7b105e19",
            "0aadc3042cdd4113aa0a2d175cb3250c",
            "a811b096a46443eb956fe436f1b3db1d",
            "0f2ee05c1f8c40c185520a2d7e797c14",
            "baa5590c155b44d98d9a068a3edc0e29",
            "96f930272d104ebaa79d7560953e86b7",
            "2e6694818a554a11a5378c2e54a8a741",
            "9cd0b6b3b9ec416f8aa8e4cceee4e5bb",
            "0b13fd729f134b779b657a12fea35e2d"
          ]
        },
        "outputId": "cdd55eff-af58-47e9-bd59-d09aabec4137"
      },
      "outputs": [
        {
          "output_type": "display_data",
          "data": {
            "text/plain": [
              "HBox(children=(Dropdown(description='Ticker:', options=('TRENT.NS', 'DMART.NS', 'INFY.NS', 'TCS.NS', 'RELIANCE…"
            ],
            "application/vnd.jupyter.widget-view+json": {
              "version_major": 2,
              "version_minor": 0,
              "model_id": "8647dbb821d34598b704463c259b8812"
            }
          },
          "metadata": {}
        },
        {
          "output_type": "display_data",
          "data": {
            "text/plain": [
              "Output()"
            ],
            "application/vnd.jupyter.widget-view+json": {
              "version_major": 2,
              "version_minor": 0,
              "model_id": "9cd0b6b3b9ec416f8aa8e4cceee4e5bb"
            }
          },
          "metadata": {}
        }
      ],
      "source": [
        "import pandas as pd\n",
        "import numpy as np\n",
        "import yfinance as yf\n",
        "import matplotlib.pyplot as plt\n",
        "import mplfinance as mpf\n",
        "import ipywidgets as widgets\n",
        "from IPython.display import display, clear_output\n",
        "from datetime import datetime, timedelta\n",
        "from sklearn.linear_model import LinearRegression\n",
        "from sklearn.ensemble import RandomForestRegressor\n",
        "from sklearn.model_selection import train_test_split\n",
        "\n",
        "plt.rcParams['figure.figsize'] = [12, 7]\n",
        "plt.rc('font', size=14)\n",
        "\n",
        "# Function to identify demand and supply zones with volume confirmation\n",
        "def identify_zones(df, threshold=0.01):\n",
        "    demand_zones = []\n",
        "    supply_zones = []\n",
        "    for i in range(1, len(df) - 1):\n",
        "        volume_increase = df['Volume'].iloc[i] > df['Volume'].iloc[i - 1]\n",
        "        # Demand Zone\n",
        "        if (df['Low'].iloc[i] < df['Low'].iloc[i - 1] and df['Low'].iloc[i] < df['Low'].iloc[i + 1]):\n",
        "            demand_price = df['Low'].iloc[i]\n",
        "            if volume_increase and df['Close'].iloc[i] > df['Close'].iloc[i - 1]:\n",
        "                if not any(np.isclose(demand_price, zone, atol=demand_price * threshold) for zone in demand_zones):\n",
        "                    demand_zones.append(demand_price)\n",
        "\n",
        "        # Supply Zone\n",
        "        if (df['High'].iloc[i] > df['High'].iloc[i - 1] and df['High'].iloc[i] > df['High'].iloc[i + 1]):\n",
        "            supply_price = df['High'].iloc[i]\n",
        "            if volume_increase and df['Close'].iloc[i] < df['Close'].iloc[i - 1]:\n",
        "                if not any(np.isclose(supply_price, zone, atol=supply_price * threshold) for zone in supply_zones):\n",
        "                    supply_zones.append(supply_price)\n",
        "\n",
        "    current_price = df['Close'].iloc[-1] if not df.empty else None\n",
        "    nearest_demand_zone = min(demand_zones, key=lambda x: abs(x - current_price), default=None) if demand_zones else None\n",
        "    nearest_supply_zone = min(supply_zones, key=lambda x: abs(x - current_price), default=None) if supply_zones else None\n",
        "\n",
        "    return nearest_demand_zone, nearest_supply_zone\n",
        "\n",
        "# Function to add technical indicators to the dataframe\n",
        "def add_technical_indicators(df):\n",
        "    df['MA_5'] = df['Close'].rolling(window=5).mean()\n",
        "    df['MA_20'] = df['Close'].rolling(window=20).mean()\n",
        "    df['Momentum'] = df['Close'].diff(4)  # 4-day momentum\n",
        "    df.dropna(inplace=True)\n",
        "\n",
        "# Function to predict the next day's closing price using regression models\n",
        "def predict_next_move(df, model_type='linear'):\n",
        "    if df.empty or len(df) < 2:\n",
        "        return None, \"Insufficient Data\"\n",
        "\n",
        "    add_technical_indicators(df)\n",
        "    X = df[['MA_5', 'MA_20', 'Momentum']]\n",
        "    y = df['Close']\n",
        "\n",
        "    if len(X) < 2:\n",
        "        return None, \"Insufficient Data\"\n",
        "\n",
        "    X_train, X_test, y_train, y_test = train_test_split(X, y, test_size=0.2, random_state=42)\n",
        "    model = LinearRegression() if model_type == 'linear' else RandomForestRegressor()\n",
        "    model.fit(X_train, y_train)\n",
        "\n",
        "    next_day_features = pd.DataFrame([[df['MA_5'].iloc[-1], df['MA_20'].iloc[-1], df['Momentum'].iloc[-1]]],\n",
        "                                      columns=['MA_5', 'MA_20', 'Momentum'])\n",
        "    predicted_next_close = model.predict(next_day_features)[0]\n",
        "\n",
        "    # Trend analysis signal\n",
        "    trend_signal = None\n",
        "    if df['MA_5'].iloc[-1] > df['MA_20'].iloc[-1]:\n",
        "        trend_signal = \"Buy\"\n",
        "    elif df['MA_5'].iloc[-1] < df['MA_20'].iloc[-1]:\n",
        "        trend_signal = \"Sell\"\n",
        "    else:\n",
        "        trend_signal = \"Sideways\"\n",
        "\n",
        "    return predicted_next_close, trend_signal\n",
        "\n",
        "# Function to determine optimal buy/sell times based on historical data\n",
        "def get_optimal_trade_times(df):\n",
        "    df['Hour'] = df.index.hour\n",
        "    buy_times = df[df['Close'].diff() > 0].groupby('Hour').count()['Close']\n",
        "    sell_times = df[df['Close'].diff() < 0].groupby('Hour').count()['Close']\n",
        "\n",
        "    optimal_buy_time = buy_times.idxmax()\n",
        "    optimal_sell_time = sell_times.idxmax()\n",
        "\n",
        "    return optimal_buy_time, optimal_sell_time\n",
        "\n",
        "# Function to generate trade summary table\n",
        "def generate_trade_summary(df, ticker, nearest_demand_zone, nearest_supply_zone, predicted_next_close, trend_signal):\n",
        "    current_price = df['Close'].iloc[-1] if not df.empty else None\n",
        "    target = predicted_next_close * 1.01  # Target at 1% above predicted close\n",
        "    stop_loss = predicted_next_close * 0.99  # Stop loss at 1% below predicted close\n",
        "\n",
        "    # Calculate prediction accuracy\n",
        "    if current_price is not None:\n",
        "        accuracy_percentage = ((predicted_next_close - current_price) / current_price) * 100\n",
        "    else:\n",
        "        accuracy_percentage = None\n",
        "\n",
        "    data = {\n",
        "        \"Symbol\": [ticker],\n",
        "        \"LTP\": [current_price],\n",
        "        \"Predicted Next Close\": [predicted_next_close],\n",
        "        \"Trend Signal\": [trend_signal],\n",
        "        \"Buy at Demand Zone\": [nearest_demand_zone],\n",
        "        \"Sell at Supply Zone\": [nearest_supply_zone],\n",
        "        \"Target Price\": [target],\n",
        "        \"Stop Loss Price\": [stop_loss],\n",
        "        \"Prediction Accuracy (%)\": [accuracy_percentage],\n",
        "    }\n",
        "\n",
        "    summary_df = pd.DataFrame(data)\n",
        "    return summary_df\n",
        "\n",
        "# Function to update the chart\n",
        "def update_chart(ticker, interval):\n",
        "    clear_output(wait=True)\n",
        "\n",
        "    end_date = datetime.now()\n",
        "    start_date = end_date - timedelta(days=30)  # Fetch last 30 days of data\n",
        "    df = yf.download(ticker, start=start_date.strftime('%Y-%m-%d'), end=end_date.strftime('%Y-%m-%d'), interval=interval)\n",
        "\n",
        "    if df.empty:\n",
        "        print(\"No data fetched for the selected ticker and interval.\")\n",
        "        return\n",
        "\n",
        "    nearest_demand_zone, nearest_supply_zone = identify_zones(df)\n",
        "    predicted_next_close, trend_signal = predict_next_move(df, model_type='random_forest')\n",
        "\n",
        "    # Get optimal trade times\n",
        "    optimal_buy_time, optimal_sell_time = get_optimal_trade_times(df)\n",
        "\n",
        "    # Generate summary table\n",
        "    trade_summary = generate_trade_summary(df, ticker, nearest_demand_zone, nearest_supply_zone, predicted_next_close, trend_signal)\n",
        "\n",
        "    # Display summary table\n",
        "    trade_summary[\"Optimal Buy Time\"] = optimal_buy_time\n",
        "    trade_summary[\"Optimal Sell Time\"] = optimal_sell_time\n",
        "    display(trade_summary)\n",
        "\n",
        "    # Plotting\n",
        "    fig, ax = plt.subplots(figsize=(12, 6))\n",
        "    mpf.plot(df, type='candle', ax=ax, volume=False, warn_too_much_data=1000)\n",
        "\n",
        "    if nearest_demand_zone is not None:\n",
        "        ax.axhline(y=nearest_demand_zone, color='lightgreen', linestyle='--', label='Nearest Demand Zone')\n",
        "\n",
        "    if nearest_supply_zone is not None:\n",
        "        ax.axhline(y=nearest_supply_zone, color='red', linestyle='--', label='Nearest Supply Zone')\n",
        "\n",
        "    ax.set_title(f\"{ticker} Nearest Supply and Demand Zones\")\n",
        "    ax.set_xlabel('Date')\n",
        "    ax.set_ylabel('Price')\n",
        "    ax.legend()\n",
        "    plt.show()\n",
        "\n",
        "# Dropdowns for ticker and interval\n",
        "ticker_dropdown = widgets.Dropdown(\n",
        "    options=[\"TRENT.NS\", \"DMART.NS\", \"INFY.NS\", \"TCS.NS\", \"RELIANCE.NS\", \"ONGC.NS\"],\n",
        "    value='TRENT.NS',\n",
        "    description='Ticker:'\n",
        ")\n",
        "\n",
        "interval_dropdown = widgets.Dropdown(\n",
        "    options=['1m', '5m', '15m', '1h', '1d'],\n",
        "    value='5m',\n",
        "    description='Interval:'\n",
        ")\n",
        "\n",
        "# Create an interactive output\n",
        "ui = widgets.HBox([ticker_dropdown, interval_dropdown])\n",
        "out = widgets.interactive_output(update_chart, {'ticker': ticker_dropdown, 'interval': interval_dropdown})\n",
        "display(ui, out)\n"
      ]
    },
    {
      "cell_type": "code",
      "execution_count": 31,
      "metadata": {
        "id": "RzqT6juaEwO0",
        "outputId": "5260a93d-f41c-4871-ca41-313027c0d382",
        "colab": {
          "base_uri": "https://localhost:8080/",
          "height": 1000,
          "referenced_widgets": [
            "a8c26879daba44db943d1e669e03fa95",
            "f37c622cffad45e08e6cc7fbb7b54896",
            "c1e1ed4af9314add858208d9c1c2366d",
            "5d667d3483bb4755b81eb7b34c9e5cc1",
            "627d12a1b71242729c40d86d1a58767f",
            "bd7a9f3fafdf418e9034325271de3a3f",
            "e5dea4c4a752412094c9e41f9d1cd245",
            "1cea03fc5a1f416393b8854af9dd9aab",
            "3cd338a434cd4cdb915b96a719bb332d",
            "b93480f5b4684274adcb5e332d88b090"
          ]
        }
      },
      "outputs": [
        {
          "output_type": "display_data",
          "data": {
            "text/plain": [
              "interactive(children=(Dropdown(description='Ticker:', index=2, options=('TRENT.NS', 'DMART.NS', 'INFY.NS', 'TC…"
            ],
            "application/vnd.jupyter.widget-view+json": {
              "version_major": 2,
              "version_minor": 0,
              "model_id": "a8c26879daba44db943d1e669e03fa95"
            }
          },
          "metadata": {}
        }
      ],
      "source": [
        "import pandas as pd\n",
        "import numpy as np\n",
        "import yfinance as yf\n",
        "import matplotlib.pyplot as plt\n",
        "import mplfinance as mpf\n",
        "import ipywidgets as widgets\n",
        "from IPython.display import display, clear_output\n",
        "from datetime import datetime, timedelta\n",
        "\n",
        "plt.rcParams['figure.figsize'] = [12, 7]\n",
        "plt.rc('font', size=14)\n",
        "\n",
        "# Function to identify demand and supply zones with volume confirmation\n",
        "def identify_zones(df, threshold=0.01):\n",
        "    demand_zones = []\n",
        "    supply_zones = []\n",
        "\n",
        "    for i in range(1, len(df) - 1):\n",
        "        volume_increase = df['Volume'].iloc[i] > df['Volume'].iloc[i - 1]\n",
        "\n",
        "        # Identify demand zone\n",
        "        if (df['Low'].iloc[i] < df['Low'].iloc[i - 1] and\n",
        "            df['Low'].iloc[i] < df['Low'].iloc[i + 1]):\n",
        "            demand_price = df['Low'].iloc[i]\n",
        "            if volume_increase and df['Close'].iloc[i] > df['Close'].iloc[i - 1]:\n",
        "                demand_zones.append({'price': demand_price, 'violated': False})\n",
        "\n",
        "        # Identify supply zone\n",
        "        if (df['High'].iloc[i] > df['High'].iloc[i - 1] and\n",
        "            df['High'].iloc[i] > df['High'].iloc[i + 1]):\n",
        "            supply_price = df['High'].iloc[i]\n",
        "            if volume_increase and df['Close'].iloc[i] < df['Close'].iloc[i - 1]:\n",
        "                supply_zones.append({'price': supply_price, 'violated': False})\n",
        "\n",
        "    # Get the current price\n",
        "    current_price = df['Close'].iloc[-1]\n",
        "\n",
        "    # Check if any zones have been violated\n",
        "    for zone in demand_zones:\n",
        "        if current_price < zone['price']:  # Price has crossed below a demand zone\n",
        "            zone['violated'] = True\n",
        "\n",
        "    for zone in supply_zones:\n",
        "        if current_price > zone['price']:  # Price has crossed above a supply zone\n",
        "            zone['violated'] = True\n",
        "\n",
        "    # Filter out violated zones\n",
        "    valid_demand_zones = [zone for zone in demand_zones if not zone['violated']]\n",
        "    valid_supply_zones = [zone for zone in supply_zones if not zone['violated']]\n",
        "\n",
        "    # Find the nearest valid demand and supply zones\n",
        "    nearest_demand_zone = min(valid_demand_zones, key=lambda x: abs(x['price'] - current_price), default=None)\n",
        "    nearest_supply_zone = min(valid_supply_zones, key=lambda x: abs(x['price'] - current_price), default=None)\n",
        "\n",
        "    return nearest_demand_zone, nearest_supply_zone\n",
        "\n",
        "# Function to update the chart\n",
        "def update_chart(ticker, interval):\n",
        "    clear_output(wait=True)\n",
        "\n",
        "    # Calculate dynamic dates\n",
        "    end_date = datetime.now()\n",
        "    start_date = end_date - timedelta(days=7)  # Last 7 days of data\n",
        "    print(\"Start Date:\", start_date.strftime('%Y-%m-%d'), \"End Date:\", end_date.strftime('%Y-%m-%d'))\n",
        "    # Download historical data\n",
        "    df = yf.download(ticker, start=start_date.strftime('%Y-%m-%d'), end=end_date.strftime('%Y-%m-%d'), interval=interval)\n",
        "    print(df)\n",
        "    # Identify zones\n",
        "    nearest_demand_zone, nearest_supply_zone = identify_zones(df)\n",
        "\n",
        "    # Print identified zones\n",
        "    if nearest_demand_zone is not None:\n",
        "        print(f\"Nearest Demand Zone: {nearest_demand_zone['price']} (Fresh Zone)\")\n",
        "\n",
        "    if nearest_supply_zone is not None:\n",
        "        print(f\"Nearest Supply Zone: {nearest_supply_zone['price']} (Fresh Zone)\")\n",
        "\n",
        "    # Plotting\n",
        "    fig, ax = plt.subplots(figsize=(12, 6))\n",
        "    mpf.plot(df, type='candle', ax=ax, volume=False)\n",
        "\n",
        "    # Add nearest demand zone (light green)\n",
        "    if nearest_demand_zone is not None:\n",
        "        ax.axhline(y=nearest_demand_zone['price'], color='lightgreen', linestyle='--', label='Nearest Demand Zone')\n",
        "\n",
        "    # Add nearest supply zone (red)\n",
        "    if nearest_supply_zone is not None:\n",
        "        ax.axhline(y=nearest_supply_zone['price'], color='red', linestyle='--', label='Nearest Supply Zone')\n",
        "\n",
        "    ax.set_title(f\"{ticker} Nearest Supply and Demand Zones with Volume Confirmation\")\n",
        "    ax.set_xlabel('Date')\n",
        "    ax.set_ylabel('Price')\n",
        "\n",
        "    strategy_text = (\"Strategy: Nearest Supply and Demand Zone Identification\\n\"\n",
        "                     \"Only fresh zones are shown. Violated zones are not displayed.\")\n",
        "    plt.text(0.5, 0.95, strategy_text, horizontalalignment='center', verticalalignment='center',\n",
        "             transform=ax.transAxes, fontsize=10, bbox=dict(facecolor='white', alpha=0.5))\n",
        "\n",
        "    ax.legend()\n",
        "    plt.show()\n",
        "\n",
        "# Dropdowns for ticker and interval\n",
        "ticker_dropdown = widgets.Dropdown(\n",
        "    options=[\"TRENT.NS\", \"DMART.NS\", \"INFY.NS\", \"TCS.NS\", \"RELIANCE.NS\", \"ONGC.NS\",\n",
        "             \"HDFCBANK.NS\", \"ICICIBANK.NS\", \"HINDUNILVR.NS\", \"ITC.NS\", \"TATAMOTORS.NS\",\n",
        "             \"BAJAJ-AUTO.NS\", \"SUNPHARMA.NS\", \"DRREDDY.NS\", \"ULTRACEMCO.NS\", \"ACC.NS\",\n",
        "             \"ASIANPAINT.NS\", \"DIXON.NS\", \"NTPC.NS\", \"TATAPOWER.NS\"],\n",
        "    value='INFY.NS',\n",
        "    description='Ticker:'\n",
        ")\n",
        "\n",
        "interval_dropdown = widgets.Dropdown(\n",
        "    options=['1m', '5m', '15m', '30m', '1h', '1d'],\n",
        "    value='15m',\n",
        "    description='Interval:'\n",
        ")\n",
        "\n",
        "# Create an interactive output\n",
        "widgets.interactive(update_chart, ticker=ticker_dropdown, interval=interval_dropdown)\n"
      ]
    },
    {
      "cell_type": "code",
      "execution_count": null,
      "metadata": {
        "id": "jQrCC63vEwO1",
        "outputId": "611ff6c7-342b-45cf-a404-9b60e1c17307",
        "colab": {
          "base_uri": "https://localhost:8080/",
          "height": 141
        }
      },
      "outputs": [
        {
          "output_type": "error",
          "ename": "NameError",
          "evalue": "name 'df' is not defined",
          "traceback": [
            "\u001b[0;31m---------------------------------------------------------------------------\u001b[0m",
            "\u001b[0;31mNameError\u001b[0m                                 Traceback (most recent call last)",
            "\u001b[0;32m<ipython-input-12-c42a15b2c7cf>\u001b[0m in \u001b[0;36m<cell line: 1>\u001b[0;34m()\u001b[0m\n\u001b[0;32m----> 1\u001b[0;31m \u001b[0mdf\u001b[0m\u001b[0;34m.\u001b[0m\u001b[0mhead\u001b[0m\u001b[0;34m(\u001b[0m\u001b[0;34m)\u001b[0m\u001b[0;34m\u001b[0m\u001b[0;34m\u001b[0m\u001b[0m\n\u001b[0m",
            "\u001b[0;31mNameError\u001b[0m: name 'df' is not defined"
          ]
        }
      ],
      "source": [
        "df.head()"
      ]
    },
    {
      "cell_type": "code",
      "execution_count": null,
      "metadata": {
        "id": "wvnEeh1TEwO1"
      },
      "outputs": [],
      "source": [
        "df['Date'] = pd.to_datetime(df.index)\n",
        "df['Date'] = df['Date'].apply(mpl_dates.date2num)\n",
        "\n",
        "df = df.loc[:,['Date', 'Open', 'High', 'Low', 'Adj Close']]"
      ]
    },
    {
      "cell_type": "code",
      "execution_count": null,
      "metadata": {
        "id": "Fi3zAKi0EwO1",
        "outputId": "f8bb0335-efd4-40ee-ec32-6150114301bb",
        "colab": {
          "base_uri": "https://localhost:8080/"
        }
      },
      "outputs": [
        {
          "output_type": "stream",
          "name": "stdout",
          "text": [
            "Support Levels:\n",
            "\n",
            "Resistance Levels:\n",
            "Date: 2024-10-09 00:00:00, Resistance Level: 8322.2001953125\n"
          ]
        }
      ],
      "source": [
        "def isSupport(df, i):\n",
        "    # Support if the current low is lower than previous and next lows\n",
        "    return (df['Low'].iloc[i] < df['Low'].iloc[i - 1] and\n",
        "            df['Low'].iloc[i] < df['Low'].iloc[i + 1])\n",
        "\n",
        "def isResistance(df, i):\n",
        "    # Resistance if the current high is higher than previous and next highs\n",
        "    return (df['High'].iloc[i] > df['High'].iloc[i - 1] and\n",
        "            df['High'].iloc[i] > df['High'].iloc[i + 1])\n",
        "\n",
        "# Lists to hold support and resistance levels\n",
        "support_levels = []\n",
        "resistance_levels = []\n",
        "\n",
        "# Loop through the DataFrame to find support and resistance levels\n",
        "for i in range(2, df.shape[0] - 2):\n",
        "    if isSupport(df, i):\n",
        "        support_levels.append((df.index[i], df['Low'].iloc[i]))\n",
        "\n",
        "    if isResistance(df, i):\n",
        "        resistance_levels.append((df.index[i], df['High'].iloc[i]))\n",
        "\n",
        "# Print the levels found\n",
        "print(\"Support Levels:\")\n",
        "for level in support_levels:\n",
        "    print(f\"Date: {level[0]}, Support Level: {level[1]}\")\n",
        "\n",
        "print(\"\\nResistance Levels:\")\n",
        "for level in resistance_levels:\n",
        "    print(f\"Date: {level[0]}, Resistance Level: {level[1]}\")"
      ]
    },
    {
      "cell_type": "code",
      "execution_count": null,
      "metadata": {
        "id": "PYbpNBxSEwO1",
        "outputId": "38676c48-6aa6-4d92-c2cc-ce5be95b84a6",
        "colab": {
          "base_uri": "https://localhost:8080/"
        }
      },
      "outputs": [
        {
          "output_type": "stream",
          "name": "stdout",
          "text": [
            "[]\n"
          ]
        }
      ],
      "source": [
        "levels = []\n",
        "for i in range(2, df.shape[0] - 2):\n",
        "    # Check for support\n",
        "    support = (df['Low'].iloc[i] < df['Low'].iloc[i - 1] and\n",
        "               df['Low'].iloc[i] < df['Low'].iloc[i + 1])\n",
        "\n",
        "    # Check for resistance\n",
        "    resistance = (df['High'].iloc[i] > df['High'].iloc[i - 1] and\n",
        "                  df['High'].iloc[i] > df['High'].iloc[i + 1] and\n",
        "                  df['High'].iloc[i + 1] > df['High'].iloc[i + 2] and\n",
        "                  df['High'].iloc[i - 1] > df['High'].iloc[i - 2])\n",
        "\n",
        "    if support:\n",
        "        levels.append((i, df['Low'].iloc[i]))\n",
        "    elif resistance:\n",
        "        levels.append((i, df['High'].iloc[i]))\n",
        "\n",
        "# Now you can use the levels list as needed\n",
        "print(levels)\n"
      ]
    },
    {
      "cell_type": "code",
      "execution_count": null,
      "metadata": {
        "id": "YniZ5jLaEwO2"
      },
      "outputs": [],
      "source": [
        "def plot_all():\n",
        "  fig, ax = plt.subplots()\n",
        "\n",
        "  candlestick_ohlc(ax,df.values,width=0.6, \\\n",
        "                   colorup='green', colordown='red', alpha=0.8)\n",
        "\n",
        "  date_format = mpl_dates.DateFormatter('%d %b %Y')\n",
        "  ax.xaxis.set_major_formatter(date_format)\n",
        "  fig.autofmt_xdate()\n",
        "\n",
        "  fig.tight_layout()\n",
        "\n",
        "  for level in levels:\n",
        "    plt.hlines(level[1],xmin=df['Date'][level[0]],\\\n",
        "               xmax=max(df['Date']),colors='blue')\n",
        "  fig.show()"
      ]
    },
    {
      "cell_type": "code",
      "execution_count": null,
      "metadata": {
        "id": "nB6N58nyEwO2",
        "outputId": "c70f398c-d3f5-4fec-b673-92c6aa3dd4f6",
        "colab": {
          "base_uri": "https://localhost:8080/",
          "height": 694
        }
      },
      "outputs": [
        {
          "output_type": "display_data",
          "data": {
            "text/plain": [
              "<Figure size 1200x700 with 1 Axes>"
            ],
            "image/png": "[encoded data removed]"
          },
          "metadata": {}
        }
      ],
      "source": [
        "plot_all()\n"
      ]
    },
    {
      "cell_type": "code",
      "execution_count": null,
      "metadata": {
        "id": "PU5wFFKZEwO2"
      },
      "outputs": [],
      "source": [
        "s =  np.mean(df['High'] - df['Low'])\n"
      ]
    },
    {
      "cell_type": "code",
      "execution_count": null,
      "metadata": {
        "id": "qbWdWvsHEwO2"
      },
      "outputs": [],
      "source": [
        "def isFarFromLevel(l):\n",
        "  return np.sum([abs(l-x) < s  for x in levels]) == 0"
      ]
    },
    {
      "cell_type": "code",
      "execution_count": null,
      "metadata": {
        "id": "raNh14VvEwO2",
        "outputId": "d754d769-056c-45f1-e267-aac11b626a4a",
        "colab": {
          "base_uri": "https://localhost:8080/"
        }
      },
      "outputs": [
        {
          "output_type": "stream",
          "name": "stdout",
          "text": [
            "[]\n"
          ]
        }
      ],
      "source": [
        "levels = []\n",
        "for i in range(2, df.shape[0] - 2):\n",
        "    # Check for support\n",
        "    support = (df['Low'].iloc[i] < df['Low'].iloc[i - 1] and\n",
        "               df['Low'].iloc[i] < df['Low'].iloc[i + 1])\n",
        "\n",
        "    # Check for resistance\n",
        "    resistance = (df['High'].iloc[i] > df['High'].iloc[i - 1] and\n",
        "                  df['High'].iloc[i] > df['High'].iloc[i + 1] and\n",
        "                  df['High'].iloc[i + 1] > df['High'].iloc[i + 2] and\n",
        "                  df['High'].iloc[i - 1] > df['High'].iloc[i - 2])\n",
        "\n",
        "    if support:\n",
        "        l = df['Low'].iloc[i]  # Use .iloc for positional indexing\n",
        "        if isFarFromLevel(l):\n",
        "            levels.append((i, l))\n",
        "\n",
        "    elif resistance:\n",
        "        l = df['High'].iloc[i]  # Use .iloc for positional indexing\n",
        "        if isFarFromLevel(l):\n",
        "            levels.append((i, l))\n",
        "\n",
        "# Now you can use the levels list as needed\n",
        "print(levels)\n"
      ]
    },
    {
      "cell_type": "code",
      "execution_count": null,
      "metadata": {
        "id": "TM5KdqIwEwO2",
        "outputId": "efc7968e-b427-4ecc-844f-8ccfcc39f2e1",
        "colab": {
          "base_uri": "https://localhost:8080/"
        }
      },
      "outputs": [
        {
          "output_type": "execute_result",
          "data": {
            "text/plain": [
              "[]"
            ]
          },
          "metadata": {},
          "execution_count": 23
        }
      ],
      "source": [
        "levels"
      ]
    },
    {
      "cell_type": "code",
      "execution_count": null,
      "metadata": {
        "id": "GVDVqmx3EwO3",
        "outputId": "fa2ecd88-6a66-46e9-e97d-e01ff8d6f631"
      },
      "outputs": [
        {
          "name": "stderr",
          "output_type": "stream",
          "text": [
            "/opt/anaconda3/lib/python3.7/site-packages/ipykernel_launcher.py:16: UserWarning: Matplotlib is currently using module://ipykernel.pylab.backend_inline, which is a non-GUI backend, so cannot show the figure.\n",
            "  app.launch_new_instance()\n"
          ]
        },
        {
          "data": {
            "image/png": "[encoded data removed]",
            "text/plain": [
              "<Figure size 864x504 with 1 Axes>"
            ]
          },
          "metadata": {
            "needs_background": "light"
          },
          "output_type": "display_data"
        }
      ],
      "source": [
        "plot_all()\n"
      ]
    },
    {
      "cell_type": "code",
      "execution_count": null,
      "metadata": {
        "id": "lcChkzSQEwO3"
      },
      "outputs": [],
      "source": []
    }
  ],
  "metadata": {
    "kernelspec": {
      "display_name": "Python 3",
      "language": "python",
      "name": "python3"
    },
    "language_info": {
      "codemirror_mode": {
        "name": "ipython",
        "version": 3
      },
      "file_extension": ".py",
      "mimetype": "text/x-python",
      "name": "python",
      "nbconvert_exporter": "python",
      "pygments_lexer": "ipython3",
      "version": "3.7.7"
    },
    "colab": {
      "provenance": [],
      "include_colab_link": true
    },
    "widgets": {
      "application/vnd.jupyter.widget-state+json": {
        "8647dbb821d34598b704463c259b8812": {
          "model_module": "@jupyter-widgets/controls",
          "model_name": "HBoxModel",
          "model_module_version": "1.5.0",
          "state": {
            "_dom_classes": [],
            "_model_module": "@jupyter-widgets/controls",
            "_model_module_version": "1.5.0",
            "_model_name": "HBoxModel",
            "_view_count": null,
            "_view_module": "@jupyter-widgets/controls",
            "_view_module_version": "1.5.0",
            "_view_name": "HBoxView",
            "box_style": "",
            "children": [
              "IPY_MODEL_4d004fdecf5943ccbfd6bf0f7b105e19",
              "IPY_MODEL_0aadc3042cdd4113aa0a2d175cb3250c"
            ],
            "layout": "IPY_MODEL_a811b096a46443eb956fe436f1b3db1d"
          }
        },
        "4d004fdecf5943ccbfd6bf0f7b105e19": {
          "model_module": "@jupyter-widgets/controls",
          "model_name": "DropdownModel",
          "model_module_version": "1.5.0",
          "state": {
            "_dom_classes": [],
            "_model_module": "@jupyter-widgets/controls",
            "_model_module_version": "1.5.0",
            "_model_name": "DropdownModel",
            "_options_labels": [
              "TRENT.NS",
              "DMART.NS",
              "INFY.NS",
              "TCS.NS",
              "RELIANCE.NS",
              "ONGC.NS"
            ],
            "_view_count": null,
            "_view_module": "@jupyter-widgets/controls",
            "_view_module_version": "1.5.0",
            "_view_name": "DropdownView",
            "description": "Ticker:",
            "description_tooltip": null,
            "disabled": false,
            "index": 0,
            "layout": "IPY_MODEL_0f2ee05c1f8c40c185520a2d7e797c14",
            "style": "IPY_MODEL_baa5590c155b44d98d9a068a3edc0e29"
          }
        },
        "0aadc3042cdd4113aa0a2d175cb3250c": {
          "model_module": "@jupyter-widgets/controls",
          "model_name": "DropdownModel",
          "model_module_version": "1.5.0",
          "state": {
            "_dom_classes": [],
            "_model_module": "@jupyter-widgets/controls",
            "_model_module_version": "1.5.0",
            "_model_name": "DropdownModel",
            "_options_labels": [
              "1m",
              "5m",
              "15m",
              "1h",
              "1d"
            ],
            "_view_count": null,
            "_view_module": "@jupyter-widgets/controls",
            "_view_module_version": "1.5.0",
            "_view_name": "DropdownView",
            "description": "Interval:",
            "description_tooltip": null,
            "disabled": false,
            "index": 3,
            "layout": "IPY_MODEL_96f930272d104ebaa79d7560953e86b7",
            "style": "IPY_MODEL_2e6694818a554a11a5378c2e54a8a741"
          }
        },
        "a811b096a46443eb956fe436f1b3db1d": {
          "model_module": "@jupyter-widgets/base",
          "model_name": "LayoutModel",
          "model_module_version": "1.2.0",
          "state": {
            "_model_module": "@jupyter-widgets/base",
            "_model_module_version": "1.2.0",
            "_model_name": "LayoutModel",
            "_view_count": null,
            "_view_module": "@jupyter-widgets/base",
            "_view_module_version": "1.2.0",
            "_view_name": "LayoutView",
            "align_content": null,
            "align_items": null,
            "align_self": null,
            "border": null,
            "bottom": null,
            "display": null,
            "flex": null,
            "flex_flow": null,
            "grid_area": null,
            "grid_auto_columns": null,
            "grid_auto_flow": null,
            "grid_auto_rows": null,
            "grid_column": null,
            "grid_gap": null,
            "grid_row": null,
            "grid_template_areas": null,
            "grid_template_columns": null,
            "grid_template_rows": null,
            "height": null,
            "justify_content": null,
            "justify_items": null,
            "left": null,
            "margin": null,
            "max_height": null,
            "max_width": null,
            "min_height": null,
            "min_width": null,
            "object_fit": null,
            "object_position": null,
            "order": null,
            "overflow": null,
            "overflow_x": null,
            "overflow_y": null,
            "padding": null,
            "right": null,
            "top": null,
            "visibility": null,
            "width": null
          }
        },
        "0f2ee05c1f8c40c185520a2d7e797c14": {
          "model_module": "@jupyter-widgets/base",
          "model_name": "LayoutModel",
          "model_module_version": "1.2.0",
          "state": {
            "_model_module": "@jupyter-widgets/base",
            "_model_module_version": "1.2.0",
            "_model_name": "LayoutModel",
            "_view_count": null,
            "_view_module": "@jupyter-widgets/base",
            "_view_module_version": "1.2.0",
            "_view_name": "LayoutView",
            "align_content": null,
            "align_items": null,
            "align_self": null,
            "border": null,
            "bottom": null,
            "display": null,
            "flex": null,
            "flex_flow": null,
            "grid_area": null,
            "grid_auto_columns": null,
            "grid_auto_flow": null,
            "grid_auto_rows": null,
            "grid_column": null,
            "grid_gap": null,
            "grid_row": null,
            "grid_template_areas": null,
            "grid_template_columns": null,
            "grid_template_rows": null,
            "height": null,
            "justify_content": null,
            "justify_items": null,
            "left": null,
            "margin": null,
            "max_height": null,
            "max_width": null,
            "min_height": null,
            "min_width": null,
            "object_fit": null,
            "object_position": null,
            "order": null,
            "overflow": null,
            "overflow_x": null,
            "overflow_y": null,
            "padding": null,
            "right": null,
            "top": null,
            "visibility": null,
            "width": null
          }
        },
        "baa5590c155b44d98d9a068a3edc0e29": {
          "model_module": "@jupyter-widgets/controls",
          "model_name": "DescriptionStyleModel",
          "model_module_version": "1.5.0",
          "state": {
            "_model_module": "@jupyter-widgets/controls",
            "_model_module_version": "1.5.0",
            "_model_name": "DescriptionStyleModel",
            "_view_count": null,
            "_view_module": "@jupyter-widgets/base",
            "_view_module_version": "1.2.0",
            "_view_name": "StyleView",
            "description_width": ""
          }
        },
        "96f930272d104ebaa79d7560953e86b7": {
          "model_module": "@jupyter-widgets/base",
          "model_name": "LayoutModel",
          "model_module_version": "1.2.0",
          "state": {
            "_model_module": "@jupyter-widgets/base",
            "_model_module_version": "1.2.0",
            "_model_name": "LayoutModel",
            "_view_count": null,
            "_view_module": "@jupyter-widgets/base",
            "_view_module_version": "1.2.0",
            "_view_name": "LayoutView",
            "align_content": null,
            "align_items": null,
            "align_self": null,
            "border": null,
            "bottom": null,
            "display": null,
            "flex": null,
            "flex_flow": null,
            "grid_area": null,
            "grid_auto_columns": null,
            "grid_auto_flow": null,
            "grid_auto_rows": null,
            "grid_column": null,
            "grid_gap": null,
            "grid_row": null,
            "grid_template_areas": null,
            "grid_template_columns": null,
            "grid_template_rows": null,
            "height": null,
            "justify_content": null,
            "justify_items": null,
            "left": null,
            "margin": null,
            "max_height": null,
            "max_width": null,
            "min_height": null,
            "min_width": null,
            "object_fit": null,
            "object_position": null,
            "order": null,
            "overflow": null,
            "overflow_x": null,
            "overflow_y": null,
            "padding": null,
            "right": null,
            "top": null,
            "visibility": null,
            "width": null
          }
        },
        "2e6694818a554a11a5378c2e54a8a741": {
          "model_module": "@jupyter-widgets/controls",
          "model_name": "DescriptionStyleModel",
          "model_module_version": "1.5.0",
          "state": {
            "_model_module": "@jupyter-widgets/controls",
            "_model_module_version": "1.5.0",
            "_model_name": "DescriptionStyleModel",
            "_view_count": null,
            "_view_module": "@jupyter-widgets/base",
            "_view_module_version": "1.2.0",
            "_view_name": "StyleView",
            "description_width": ""
          }
        },
        "9cd0b6b3b9ec416f8aa8e4cceee4e5bb": {
          "model_module": "@jupyter-widgets/output",
          "model_name": "OutputModel",
          "model_module_version": "1.0.0",
          "state": {
            "_dom_classes": [],
            "_model_module": "@jupyter-widgets/output",
            "_model_module_version": "1.0.0",
            "_model_name": "OutputModel",
            "_view_count": null,
            "_view_module": "@jupyter-widgets/output",
            "_view_module_version": "1.0.0",
            "_view_name": "OutputView",
            "layout": "IPY_MODEL_0b13fd729f134b779b657a12fea35e2d",
            "msg_id": "",
            "outputs": [
              {
                "output_type": "stream",
                "name": "stderr",
                "text": [
                  "\r[*********************100%***********************]  1 of 1 completed"
                ]
              },
              {
                "output_type": "stream",
                "name": "stderr",
                "text": [
                  "\n"
                ]
              },
              {
                "output_type": "display_data",
                "data": {
                  "text/plain": "     Symbol     LTP  Predicted Next Close Trend Signal  Buy at Demand Zone  \\\n0  TRENT.NS  8200.0            8201.06999          Buy         7757.149902   \n\n   Sell at Supply Zone  Target Price  Stop Loss Price  \\\n0          8182.799805    8283.08069       8119.05929   \n\n   Prediction Accuracy (%)  Optimal Buy Time  Optimal Sell Time  \n0                 0.013049                12                 11  ",
                  "text/html": "\n  <div id=\"df-33d61bc0-3d9a-4b01-ab52-f4ab6b7eb08c\" class=\"colab-df-container\">\n    <div>\n<style scoped>\n    .dataframe tbody tr th:only-of-type {\n        vertical-align: middle;\n    }\n\n    .dataframe tbody tr th {\n        vertical-align: top;\n    }\n\n    .dataframe thead th {\n        text-align: right;\n    }\n</style>\n<table border=\"1\" class=\"dataframe\">\n  <thead>\n    <tr style=\"text-align: right;\">\n      <th></th>\n      <th>Symbol</th>\n      <th>LTP</th>\n      <th>Predicted Next Close</th>\n      <th>Trend Signal</th>\n      <th>Buy at Demand Zone</th>\n      <th>Sell at Supply Zone</th>\n      <th>Target Price</th>\n      <th>Stop Loss Price</th>\n      <th>Prediction Accuracy (%)</th>\n      <th>Optimal Buy Time</th>\n      <th>Optimal Sell Time</th>\n    </tr>\n  </thead>\n  <tbody>\n    <tr>\n      <th>0</th>\n      <td>TRENT.NS</td>\n      <td>8200.0</td>\n      <td>8201.06999</td>\n      <td>Buy</td>\n      <td>7757.149902</td>\n      <td>8182.799805</td>\n      <td>8283.08069</td>\n      <td>8119.05929</td>\n      <td>0.013049</td>\n      <td>12</td>\n      <td>11</td>\n    </tr>\n  </tbody>\n</table>\n</div>\n    <div class=\"colab-df-buttons\">\n\n  <div class=\"colab-df-container\">\n    <button class=\"colab-df-convert\" onclick=\"convertToInteractive('df-33d61bc0-3d9a-4b01-ab52-f4ab6b7eb08c')\"\n            title=\"Convert this dataframe to an interactive table.\"\n            style=\"display:none;\">\n\n  <svg xmlns=\"http://www.w3.org/2000/svg\" height=\"24px\" viewBox=\"0 -960 960 960\">\n    <path d=\"M120-120v-720h720v720H120Zm60-500h600v-160H180v160Zm220 220h160v-160H400v160Zm0 220h160v-160H400v160ZM180-400h160v-160H180v160Zm440 0h160v-160H620v160ZM180-180h160v-160H180v160Zm440 0h160v-160H620v160Z\"/>\n  </svg>\n    </button>\n\n  <style>\n    .colab-df-container {\n      display:flex;\n      gap: 12px;\n    }\n\n    .colab-df-convert {\n      background-color: #E8F0FE;\n      border: none;\n      border-radius: 50%;\n      cursor: pointer;\n      display: none;\n      fill: #1967D2;\n      height: 32px;\n      padding: 0 0 0 0;\n      width: 32px;\n    }\n\n    .colab-df-convert:hover {\n      background-color: #E2EBFA;\n      box-shadow: 0px 1px 2px rgba(60, 64, 67, 0.3), 0px 1px 3px 1px rgba(60, 64, 67, 0.15);\n      fill: #174EA6;\n    }\n\n    .colab-df-buttons div {\n      margin-bottom: 4px;\n    }\n\n    [theme=dark] .colab-df-convert {\n      background-color: #3B4455;\n      fill: #D2E3FC;\n    }\n\n    [theme=dark] .colab-df-convert:hover {\n      background-color: #434B5C;\n      box-shadow: 0px 1px 3px 1px rgba(0, 0, 0, 0.15);\n      filter: drop-shadow(0px 1px 2px rgba(0, 0, 0, 0.3));\n      fill: #FFFFFF;\n    }\n  </style>\n\n    <script>\n      const buttonEl =\n        document.querySelector('#df-33d61bc0-3d9a-4b01-ab52-f4ab6b7eb08c button.colab-df-convert');\n      buttonEl.style.display =\n        google.colab.kernel.accessAllowed ? 'block' : 'none';\n\n      async function convertToInteractive(key) {\n        const element = document.querySelector('#df-33d61bc0-3d9a-4b01-ab52-f4ab6b7eb08c');\n        const dataTable =\n          await google.colab.kernel.invokeFunction('convertToInteractive',\n                                                    [key], {});\n        if (!dataTable) return;\n\n        const docLinkHtml = 'Like what you see? Visit the ' +\n          '<a target=\"_blank\" href=https://colab.research.google.com/notebooks/data_table.ipynb>data table notebook</a>'\n          + ' to learn more about interactive tables.';\n        element.innerHTML = '';\n        dataTable['output_type'] = 'display_data';\n        await google.colab.output.renderOutput(dataTable, element);\n        const docLink = document.createElement('div');\n        docLink.innerHTML = docLinkHtml;\n        element.appendChild(docLink);\n      }\n    </script>\n  </div>\n\n\n    </div>\n  </div>\n",
                  "application/vnd.google.colaboratory.intrinsic+json": {
                    "type": "dataframe",
                    "summary": "{\n  \"name\": \"display(ui, out)\",\n  \"rows\": 1,\n  \"fields\": [\n    {\n      \"column\": \"Symbol\",\n      \"properties\": {\n        \"dtype\": \"string\",\n        \"num_unique_values\": 1,\n        \"samples\": [\n          \"TRENT.NS\"\n        ],\n        \"semantic_type\": \"\",\n        \"description\": \"\"\n      }\n    },\n    {\n      \"column\": \"LTP\",\n      \"properties\": {\n        \"dtype\": \"number\",\n        \"std\": null,\n        \"min\": 8200.0,\n        \"max\": 8200.0,\n        \"num_unique_values\": 1,\n        \"samples\": [\n          8200.0\n        ],\n        \"semantic_type\": \"\",\n        \"description\": \"\"\n      }\n    },\n    {\n      \"column\": \"Predicted Next Close\",\n      \"properties\": {\n        \"dtype\": \"number\",\n        \"std\": null,\n        \"min\": 8201.069990234375,\n        \"max\": 8201.069990234375,\n        \"num_unique_values\": 1,\n        \"samples\": [\n          8201.069990234375\n        ],\n        \"semantic_type\": \"\",\n        \"description\": \"\"\n      }\n    },\n    {\n      \"column\": \"Trend Signal\",\n      \"properties\": {\n        \"dtype\": \"string\",\n        \"num_unique_values\": 1,\n        \"samples\": [\n          \"Buy\"\n        ],\n        \"semantic_type\": \"\",\n        \"description\": \"\"\n      }\n    },\n    {\n      \"column\": \"Buy at Demand Zone\",\n      \"properties\": {\n        \"dtype\": \"number\",\n        \"std\": null,\n        \"min\": 7757.14990234375,\n        \"max\": 7757.14990234375,\n        \"num_unique_values\": 1,\n        \"samples\": [\n          7757.14990234375\n        ],\n        \"semantic_type\": \"\",\n        \"description\": \"\"\n      }\n    },\n    {\n      \"column\": \"Sell at Supply Zone\",\n      \"properties\": {\n        \"dtype\": \"number\",\n        \"std\": null,\n        \"min\": 8182.7998046875,\n        \"max\": 8182.7998046875,\n        \"num_unique_values\": 1,\n        \"samples\": [\n          8182.7998046875\n        ],\n        \"semantic_type\": \"\",\n        \"description\": \"\"\n      }\n    },\n    {\n      \"column\": \"Target Price\",\n      \"properties\": {\n        \"dtype\": \"number\",\n        \"std\": null,\n        \"min\": 8283.08069013672,\n        \"max\": 8283.08069013672,\n        \"num_unique_values\": 1,\n        \"samples\": [\n          8283.08069013672\n        ],\n        \"semantic_type\": \"\",\n        \"description\": \"\"\n      }\n    },\n    {\n      \"column\": \"Stop Loss Price\",\n      \"properties\": {\n        \"dtype\": \"number\",\n        \"std\": null,\n        \"min\": 8119.059290332031,\n        \"max\": 8119.059290332031,\n        \"num_unique_values\": 1,\n        \"samples\": [\n          8119.059290332031\n        ],\n        \"semantic_type\": \"\",\n        \"description\": \"\"\n      }\n    },\n    {\n      \"column\": \"Prediction Accuracy (%)\",\n      \"properties\": {\n        \"dtype\": \"number\",\n        \"std\": null,\n        \"min\": 0.013048661394816186,\n        \"max\": 0.013048661394816186,\n        \"num_unique_values\": 1,\n        \"samples\": [\n          0.013048661394816186\n        ],\n        \"semantic_type\": \"\",\n        \"description\": \"\"\n      }\n    },\n    {\n      \"column\": \"Optimal Buy Time\",\n      \"properties\": {\n        \"dtype\": \"int32\",\n        \"num_unique_values\": 1,\n        \"samples\": [\n          12\n        ],\n        \"semantic_type\": \"\",\n        \"description\": \"\"\n      }\n    },\n    {\n      \"column\": \"Optimal Sell Time\",\n      \"properties\": {\n        \"dtype\": \"int32\",\n        \"num_unique_values\": 1,\n        \"samples\": [\n          11\n        ],\n        \"semantic_type\": \"\",\n        \"description\": \"\"\n      }\n    }\n  ]\n}"
                  }
                },
                "metadata": {}
              },
              {
                "output_type": "display_data",
                "data": {
                  "text/plain": "<Figure size 1200x600 with 1 Axes>",
                  "image/png": "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\n"
                },
                "metadata": {}
              }
            ]
          }
        },
        "0b13fd729f134b779b657a12fea35e2d": {
          "model_module": "@jupyter-widgets/base",
          "model_name": "LayoutModel",
          "model_module_version": "1.2.0",
          "state": {
            "_model_module": "@jupyter-widgets/base",
            "_model_module_version": "1.2.0",
            "_model_name": "LayoutModel",
            "_view_count": null,
            "_view_module": "@jupyter-widgets/base",
            "_view_module_version": "1.2.0",
            "_view_name": "LayoutView",
            "align_content": null,
            "align_items": null,
            "align_self": null,
            "border": null,
            "bottom": null,
            "display": null,
            "flex": null,
            "flex_flow": null,
            "grid_area": null,
            "grid_auto_columns": null,
            "grid_auto_flow": null,
            "grid_auto_rows": null,
            "grid_column": null,
            "grid_gap": null,
            "grid_row": null,
            "grid_template_areas": null,
            "grid_template_columns": null,
            "grid_template_rows": null,
            "height": null,
            "justify_content": null,
            "justify_items": null,
            "left": null,
            "margin": null,
            "max_height": null,
            "max_width": null,
            "min_height": null,
            "min_width": null,
            "object_fit": null,
            "object_position": null,
            "order": null,
            "overflow": null,
            "overflow_x": null,
            "overflow_y": null,
            "padding": null,
            "right": null,
            "top": null,
            "visibility": null,
            "width": null
          }
        },
        "a8c26879daba44db943d1e669e03fa95": {
          "model_module": "@jupyter-widgets/controls",
          "model_name": "VBoxModel",
          "model_module_version": "1.5.0",
          "state": {
            "_dom_classes": [
              "widget-interact"
            ],
            "_model_module": "@jupyter-widgets/controls",
            "_model_module_version": "1.5.0",
            "_model_name": "VBoxModel",
            "_view_count": null,
            "_view_module": "@jupyter-widgets/controls",
            "_view_module_version": "1.5.0",
            "_view_name": "VBoxView",
            "box_style": "",
            "children": [
              "IPY_MODEL_f37c622cffad45e08e6cc7fbb7b54896",
              "IPY_MODEL_c1e1ed4af9314add858208d9c1c2366d",
              "IPY_MODEL_5d667d3483bb4755b81eb7b34c9e5cc1"
            ],
            "layout": "IPY_MODEL_627d12a1b71242729c40d86d1a58767f"
          }
        },
        "f37c622cffad45e08e6cc7fbb7b54896": {
          "model_module": "@jupyter-widgets/controls",
          "model_name": "DropdownModel",
          "model_module_version": "1.5.0",
          "state": {
            "_dom_classes": [],
            "_model_module": "@jupyter-widgets/controls",
            "_model_module_version": "1.5.0",
            "_model_name": "DropdownModel",
            "_options_labels": [
              "TRENT.NS",
              "DMART.NS",
              "INFY.NS",
              "TCS.NS",
              "RELIANCE.NS",
              "ONGC.NS",
              "HDFCBANK.NS",
              "ICICIBANK.NS",
              "HINDUNILVR.NS",
              "ITC.NS",
              "TATAMOTORS.NS",
              "BAJAJ-AUTO.NS",
              "SUNPHARMA.NS",
              "DRREDDY.NS",
              "ULTRACEMCO.NS",
              "ACC.NS",
              "ASIANPAINT.NS",
              "DIXON.NS",
              "NTPC.NS",
              "TATAPOWER.NS"
            ],
            "_view_count": null,
            "_view_module": "@jupyter-widgets/controls",
            "_view_module_version": "1.5.0",
            "_view_name": "DropdownView",
            "description": "Ticker:",
            "description_tooltip": null,
            "disabled": false,
            "index": 0,
            "layout": "IPY_MODEL_bd7a9f3fafdf418e9034325271de3a3f",
            "style": "IPY_MODEL_e5dea4c4a752412094c9e41f9d1cd245"
          }
        },
        "c1e1ed4af9314add858208d9c1c2366d": {
          "model_module": "@jupyter-widgets/controls",
          "model_name": "DropdownModel",
          "model_module_version": "1.5.0",
          "state": {
            "_dom_classes": [],
            "_model_module": "@jupyter-widgets/controls",
            "_model_module_version": "1.5.0",
            "_model_name": "DropdownModel",
            "_options_labels": [
              "1m",
              "5m",
              "15m",
              "30m",
              "1h",
              "1d"
            ],
            "_view_count": null,
            "_view_module": "@jupyter-widgets/controls",
            "_view_module_version": "1.5.0",
            "_view_name": "DropdownView",
            "description": "Interval:",
            "description_tooltip": null,
            "disabled": false,
            "index": 2,
            "layout": "IPY_MODEL_1cea03fc5a1f416393b8854af9dd9aab",
            "style": "IPY_MODEL_3cd338a434cd4cdb915b96a719bb332d"
          }
        },
        "5d667d3483bb4755b81eb7b34c9e5cc1": {
          "model_module": "@jupyter-widgets/output",
          "model_name": "OutputModel",
          "model_module_version": "1.0.0",
          "state": {
            "_dom_classes": [],
            "_model_module": "@jupyter-widgets/output",
            "_model_module_version": "1.0.0",
            "_model_name": "OutputModel",
            "_view_count": null,
            "_view_module": "@jupyter-widgets/output",
            "_view_module_version": "1.0.0",
            "_view_name": "OutputView",
            "layout": "IPY_MODEL_b93480f5b4684274adcb5e332d88b090",
            "msg_id": "",
            "outputs": [
              {
                "output_type": "stream",
                "name": "stderr",
                "text": [
                  "\r[*********************100%***********************]  1 of 1 completed"
                ]
              },
              {
                "output_type": "stream",
                "name": "stdout",
                "text": [
                  "Start Date: 2024-10-08 End Date: 2024-10-15\n",
                  "                            Open         High          Low        Close  \\\n",
                  "Datetime                                                                  \n",
                  "2024-10-08 09:15:00  7526.200195  7551.850098  7475.600098  7547.750000   \n",
                  "2024-10-08 09:30:00  7549.600098  7550.950195  7451.000000  7468.200195   \n",
                  "2024-10-08 09:45:00  7469.200195  7547.750000  7469.200195  7535.450195   \n",
                  "2024-10-08 10:00:00  7540.000000  7597.899902  7536.799805  7597.899902   \n",
                  "2024-10-08 10:15:00  7598.950195  7666.149902  7590.899902  7636.000000   \n",
                  "...                          ...          ...          ...          ...   \n",
                  "2024-10-14 14:15:00  8199.450195  8205.099609  8172.549805  8177.000000   \n",
                  "2024-10-14 14:30:00  8178.950195  8193.900391  8172.000000  8182.700195   \n",
                  "2024-10-14 14:45:00  8182.049805  8195.000000  8175.000000  8179.649902   \n",
                  "2024-10-14 15:00:00  8178.750000  8199.000000  8178.750000  8188.000000   \n",
                  "2024-10-14 15:15:00  8187.899902  8202.500000  8183.549805  8200.000000   \n",
                  "\n",
                  "                       Adj Close  Volume  \n",
                  "Datetime                                  \n",
                  "2024-10-08 09:15:00  7547.750000   56636  \n",
                  "2024-10-08 09:30:00  7468.200195   53034  \n",
                  "2024-10-08 09:45:00  7535.450195   36595  \n",
                  "2024-10-08 10:00:00  7597.899902   30884  \n",
                  "2024-10-08 10:15:00  7636.000000   52729  \n",
                  "...                          ...     ...  \n",
                  "2024-10-14 14:15:00  8177.000000   22880  \n",
                  "2024-10-14 14:30:00  8182.700195    9585  \n",
                  "2024-10-14 14:45:00  8179.649902   13172  \n",
                  "2024-10-14 15:00:00  8188.000000   18576  \n",
                  "2024-10-14 15:15:00  8200.000000   30182  \n",
                  "\n",
                  "[125 rows x 6 columns]\n",
                  "Nearest Demand Zone: 8175.0 (Fresh Zone)\n",
                  "Nearest Supply Zone: 8205.099609375 (Fresh Zone)\n"
                ]
              },
              {
                "output_type": "stream",
                "name": "stderr",
                "text": [
                  "\n"
                ]
              },
              {
                "output_type": "display_data",
                "data": {
                  "text/plain": "<Figure size 1200x600 with 1 Axes>",
                  "image/png": "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\n"
                },
                "metadata": {}
              }
            ]
          }
        },
        "627d12a1b71242729c40d86d1a58767f": {
          "model_module": "@jupyter-widgets/base",
          "model_name": "LayoutModel",
          "model_module_version": "1.2.0",
          "state": {
            "_model_module": "@jupyter-widgets/base",
            "_model_module_version": "1.2.0",
            "_model_name": "LayoutModel",
            "_view_count": null,
            "_view_module": "@jupyter-widgets/base",
            "_view_module_version": "1.2.0",
            "_view_name": "LayoutView",
            "align_content": null,
            "align_items": null,
            "align_self": null,
            "border": null,
            "bottom": null,
            "display": null,
            "flex": null,
            "flex_flow": null,
            "grid_area": null,
            "grid_auto_columns": null,
            "grid_auto_flow": null,
            "grid_auto_rows": null,
            "grid_column": null,
            "grid_gap": null,
            "grid_row": null,
            "grid_template_areas": null,
            "grid_template_columns": null,
            "grid_template_rows": null,
            "height": null,
            "justify_content": null,
            "justify_items": null,
            "left": null,
            "margin": null,
            "max_height": null,
            "max_width": null,
            "min_height": null,
            "min_width": null,
            "object_fit": null,
            "object_position": null,
            "order": null,
            "overflow": null,
            "overflow_x": null,
            "overflow_y": null,
            "padding": null,
            "right": null,
            "top": null,
            "visibility": null,
            "width": null
          }
        },
        "bd7a9f3fafdf418e9034325271de3a3f": {
          "model_module": "@jupyter-widgets/base",
          "model_name": "LayoutModel",
          "model_module_version": "1.2.0",
          "state": {
            "_model_module": "@jupyter-widgets/base",
            "_model_module_version": "1.2.0",
            "_model_name": "LayoutModel",
            "_view_count": null,
            "_view_module": "@jupyter-widgets/base",
            "_view_module_version": "1.2.0",
            "_view_name": "LayoutView",
            "align_content": null,
            "align_items": null,
            "align_self": null,
            "border": null,
            "bottom": null,
            "display": null,
            "flex": null,
            "flex_flow": null,
            "grid_area": null,
            "grid_auto_columns": null,
            "grid_auto_flow": null,
            "grid_auto_rows": null,
            "grid_column": null,
            "grid_gap": null,
            "grid_row": null,
            "grid_template_areas": null,
            "grid_template_columns": null,
            "grid_template_rows": null,
            "height": null,
            "justify_content": null,
            "justify_items": null,
            "left": null,
            "margin": null,
            "max_height": null,
            "max_width": null,
            "min_height": null,
            "min_width": null,
            "object_fit": null,
            "object_position": null,
            "order": null,
            "overflow": null,
            "overflow_x": null,
            "overflow_y": null,
            "padding": null,
            "right": null,
            "top": null,
            "visibility": null,
            "width": null
          }
        },
        "e5dea4c4a752412094c9e41f9d1cd245": {
          "model_module": "@jupyter-widgets/controls",
          "model_name": "DescriptionStyleModel",
          "model_module_version": "1.5.0",
          "state": {
            "_model_module": "@jupyter-widgets/controls",
            "_model_module_version": "1.5.0",
            "_model_name": "DescriptionStyleModel",
            "_view_count": null,
            "_view_module": "@jupyter-widgets/base",
            "_view_module_version": "1.2.0",
            "_view_name": "StyleView",
            "description_width": ""
          }
        },
        "1cea03fc5a1f416393b8854af9dd9aab": {
          "model_module": "@jupyter-widgets/base",
          "model_name": "LayoutModel",
          "model_module_version": "1.2.0",
          "state": {
            "_model_module": "@jupyter-widgets/base",
            "_model_module_version": "1.2.0",
            "_model_name": "LayoutModel",
            "_view_count": null,
            "_view_module": "@jupyter-widgets/base",
            "_view_module_version": "1.2.0",
            "_view_name": "LayoutView",
            "align_content": null,
            "align_items": null,
            "align_self": null,
            "border": null,
            "bottom": null,
            "display": null,
            "flex": null,
            "flex_flow": null,
            "grid_area": null,
            "grid_auto_columns": null,
            "grid_auto_flow": null,
            "grid_auto_rows": null,
            "grid_column": null,
            "grid_gap": null,
            "grid_row": null,
            "grid_template_areas": null,
            "grid_template_columns": null,
            "grid_template_rows": null,
            "height": null,
            "justify_content": null,
            "justify_items": null,
            "left": null,
            "margin": null,
            "max_height": null,
            "max_width": null,
            "min_height": null,
            "min_width": null,
            "object_fit": null,
            "object_position": null,
            "order": null,
            "overflow": null,
            "overflow_x": null,
            "overflow_y": null,
            "padding": null,
            "right": null,
            "top": null,
            "visibility": null,
            "width": null
          }
        },
        "3cd338a434cd4cdb915b96a719bb332d": {
          "model_module": "@jupyter-widgets/controls",
          "model_name": "DescriptionStyleModel",
          "model_module_version": "1.5.0",
          "state": {
            "_model_module": "@jupyter-widgets/controls",
            "_model_module_version": "1.5.0",
            "_model_name": "DescriptionStyleModel",
            "_view_count": null,
            "_view_module": "@jupyter-widgets/base",
            "_view_module_version": "1.2.0",
            "_view_name": "StyleView",
            "description_width": ""
          }
        },
        "b93480f5b4684274adcb5e332d88b090": {
          "model_module": "@jupyter-widgets/base",
          "model_name": "LayoutModel",
          "model_module_version": "1.2.0",
          "state": {
            "_model_module": "@jupyter-widgets/base",
            "_model_module_version": "1.2.0",
            "_model_name": "LayoutModel",
            "_view_count": null,
            "_view_module": "@jupyter-widgets/base",
            "_view_module_version": "1.2.0",
            "_view_name": "LayoutView",
            "align_content": null,
            "align_items": null,
            "align_self": null,
            "border": null,
            "bottom": null,
            "display": null,
            "flex": null,
            "flex_flow": null,
            "grid_area": null,
            "grid_auto_columns": null,
            "grid_auto_flow": null,
            "grid_auto_rows": null,
            "grid_column": null,
            "grid_gap": null,
            "grid_row": null,
            "grid_template_areas": null,
            "grid_template_columns": null,
            "grid_template_rows": null,
            "height": null,
            "justify_content": null,
            "justify_items": null,
            "left": null,
            "margin": null,
            "max_height": null,
            "max_width": null,
            "min_height": null,
            "min_width": null,
            "object_fit": null,
            "object_position": null,
            "order": null,
            "overflow": null,
            "overflow_x": null,
            "overflow_y": null,
            "padding": null,
            "right": null,
            "top": null,
            "visibility": null,
            "width": null
          }
        }
      }
    }
  },
  "nbformat": 4,
  "nbformat_minor": 0
}